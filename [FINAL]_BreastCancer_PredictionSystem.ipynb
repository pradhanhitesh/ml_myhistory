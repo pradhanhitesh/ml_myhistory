{
  "nbformat": 4,
  "nbformat_minor": 0,
  "metadata": {
    "colab": {
      "name": "[FINAL] BreastCancer_PredictionSystem.ipynb",
      "provenance": [],
      "authorship_tag": "ABX9TyNdLthUwiYiW4/SoJcqDw1r",
      "include_colab_link": true
    },
    "kernelspec": {
      "name": "python3",
      "display_name": "Python 3"
    },
    "language_info": {
      "name": "python"
    }
  },
  "cells": [
    {
      "cell_type": "markdown",
      "metadata": {
        "id": "view-in-github",
        "colab_type": "text"
      },
      "source": [
        "<a href=\"https://colab.research.google.com/github/pradhanhitesh/ml_detectionsys/blob/main/%5BFINAL%5D_BreastCancer_PredictionSystem.ipynb\" target=\"_parent\"><img src=\"https://colab.research.google.com/assets/colab-badge.svg\" alt=\"Open In Colab\"/></a>"
      ]
    },
    {
      "cell_type": "markdown",
      "source": [
        "MACHINE LEARNING ALGORITHMS - SVM "
      ],
      "metadata": {
        "id": "yvPmsRvozPAH"
      }
    },
    {
      "cell_type": "code",
      "execution_count": 11,
      "metadata": {
        "id": "i0c3qNihx6hn"
      },
      "outputs": [],
      "source": [
        "# IMPORT ALL DEPENDENCIES\n",
        "import numpy as np\n",
        "import pandas as pd\n",
        "from sklearn.preprocessing import StandardScaler\n",
        "from sklearn.metrics import accuracy_score\n",
        "from sklearn.model_selection import train_test_split\n",
        "from sklearn import svm\n",
        "\n",
        "# IMPORTING DATA and ANALYSIS\n",
        "load_data = pd.read_csv(\"/content/cancer_breasts.csv\")\n",
        "# print(load_data.head())\n",
        "# print(load_data.info())\n",
        "# print(load_data.describe())\n",
        "# print(load_data.groupby('diagnosis').mean())\n",
        "# print(load_data['diagnosis'].value_counts())\n",
        "# print(load_data.isnull().sum())\n",
        "\n",
        "# DROP COLUMNS\n",
        "X = load_data.drop(columns=['id', 'diagnosis'], axis=1)\n",
        "Y = load_data['diagnosis']\n",
        "# print(X)\n",
        "# print(Y)\n",
        "\n",
        "# DIVIDE THE DATA\n",
        "X_train, X_test, Y_train, Y_test = train_test_split(X, Y, test_size=0.2, random_state=2)\n",
        "# print(X.shape, X_train.shape, X_test.shape)\n",
        "\n",
        "# PRE PROCESS THE DATA\n",
        "X_train2 = np.asarray(X_train)\n",
        "X_test2 = np.asarray(X_test)\n",
        "scale = StandardScaler()\n",
        "scale.fit(X_train2)\n",
        "X_train2 = scale.transform(X_train2)\n",
        "X_test2 = scale.transform(X_test2)\n",
        "\n",
        "# CREATE THE MODEL\n",
        "model = svm.SVC(kernel='linear')\n",
        "model.fit(X_train2, Y_train)\n",
        "\n",
        "# CHECK THE ACCURACIES\n",
        "X_train_predication = model.predict(X_train2)\n",
        "train_accuracy = accuracy_score(Y_train, X_train_predication) * 100\n",
        "#print('The accuracy of train dataset is: ', train_accuracy, '%')\n",
        "\n",
        "X_test_predication = model.predict(X_test2)\n",
        "test_accuracy = accuracy_score(Y_test, X_test_predication) * 100\n",
        "#print('The accuracy of test dataset is: ', test_accuracy, '%')"
      ]
    },
    {
      "cell_type": "markdown",
      "source": [
        "PREDICTION SYSTEM"
      ],
      "metadata": {
        "id": "9NXFggjbzXI6"
      }
    },
    {
      "cell_type": "code",
      "source": [
        "# PREDICTIVE SYSTEM\n",
        "input_data = (\n",
        "    13.71, 20.83, 90.2, 577.9, 0.1189, 0.1645, 0.09366, 0.05985, 0.2196, 0.07451, 0.5835, 1.377, 3.856, 50.96, 0.008805,\n",
        "    0.03029, 0.02488, 0.01448, 0.01486, 0.005412, 17.06, 28.14, 110.6, 897, 0.1654, 0.3682, 0.2678, 0.1556, 0.3196,\n",
        "    0.1151) #INPUT THE DATA HERE\n",
        "\n",
        "# Input array to numpy array\n",
        "input_data_as_numpy_array = np.asarray(input_data)\n",
        "\n",
        "# Reshape the numpy array\n",
        "input_data_reshape = input_data_as_numpy_array.reshape(1, -1)\n",
        "\n",
        "# Standardise the input\n",
        "std_data = scale.transform(input_data_reshape)\n",
        "\n",
        "prediction = model.predict(std_data)\n",
        "#print(prediction)\n",
        "\n",
        "print('The accuracy of train dataset is: ', train_accuracy, '%')\n",
        "print('The accuracy of test dataset is: ', test_accuracy, '%')\n",
        "if prediction == 'M':\n",
        "    print(\"Based on the input data, the model predicts that the person have Malignant form of Breast Cancer .\")\n",
        "else:\n",
        "    print(\"Based on the input data, the model predicts that the person have Benign form of Breast Cancer.\")"
      ],
      "metadata": {
        "colab": {
          "base_uri": "https://localhost:8080/"
        },
        "id": "2mdo8eXuyGc3",
        "outputId": "a929ec66-e102-465f-fad5-2742aab636d3"
      },
      "execution_count": 12,
      "outputs": [
        {
          "output_type": "stream",
          "name": "stdout",
          "text": [
            "The accuracy of train dataset is:  99.34065934065934 %\n",
            "The accuracy of test dataset is:  95.6140350877193 %\n",
            "Based on the input data, the model predicts that the person have Malignant form of Breast Cancer .\n"
          ]
        }
      ]
    }
  ]
}