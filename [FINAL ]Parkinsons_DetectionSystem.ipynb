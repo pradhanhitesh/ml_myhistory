{
  "nbformat": 4,
  "nbformat_minor": 0,
  "metadata": {
    "colab": {
      "name": "Parkinson's Detection System.ipynb",
      "provenance": [],
      "authorship_tag": "ABX9TyNyZvMOJG3AovFLGXXWFmUI",
      "include_colab_link": true
    },
    "kernelspec": {
      "name": "python3",
      "display_name": "Python 3"
    },
    "language_info": {
      "name": "python"
    }
  },
  "cells": [
    {
      "cell_type": "markdown",
      "metadata": {
        "id": "view-in-github",
        "colab_type": "text"
      },
      "source": [
        "<a href=\"https://colab.research.google.com/github/pradhanhitesh/ml_detectionsys/blob/main/Parkinson's_Detection_System.ipynb\" target=\"_parent\"><img src=\"https://colab.research.google.com/assets/colab-badge.svg\" alt=\"Open In Colab\"/></a>"
      ]
    },
    {
      "cell_type": "code",
      "execution_count": 14,
      "metadata": {
        "id": "QDlngDFSBM8N"
      },
      "outputs": [],
      "source": [
        "# IMPORT ALL DEPENDENCIES\n",
        "import numpy as np\n",
        "import pandas as pd\n",
        "from sklearn.preprocessing import StandardScaler\n",
        "from sklearn.metrics import accuracy_score\n",
        "from sklearn.model_selection import train_test_split\n",
        "from sklearn import svm\n",
        "\n",
        "# LOAD AND ANALYZE THE DATA\n",
        "load_data = pd.read_csv('/content/parkinsons.csv')\n",
        "# print(load_data.info())\n",
        "# print(load_data.describe())\n",
        "# print((load_data.isnull().sum()))\n",
        "\n",
        "# DROP COLUMNS\n",
        "X = load_data.drop(columns=['status', 'name'], axis=1)\n",
        "Y = load_data['status']\n",
        "\n",
        "# DIVIDE THE DATA\n",
        "X_train, X_test, Y_train, Y_test = train_test_split(X, Y, test_size=0.2, random_state=2)\n",
        "X_train = np.asarray(X_train)\n",
        "X_test = np.asarray(X_test)\n",
        "# print(X.shape,X_train.shape,X_test.shape)\n",
        "\n",
        "# PREPROCESS THE DATA\n",
        "scale = StandardScaler()\n",
        "scale.fit(X_train)\n",
        "X_train = scale.transform(X_train)\n",
        "X_test = scale.transform(X_test)\n",
        "# print(X_train)\n",
        "\n",
        "# CREATE THE MODEL\n",
        "model = svm.SVC(kernel='linear')\n",
        "model.fit(X_train, Y_train)\n",
        "\n",
        "# CHECK THE ACCURACIES\n",
        "X_train_predication = model.predict(X_train)\n",
        "train_accuracy = accuracy_score(Y_train, X_train_predication) * 100\n",
        "# print('The accuracy of train dataset is: ', train_accuracy)\n",
        "\n",
        "X_test_predication = model.predict(X_test)\n",
        "test_accuracy = accuracy_score(Y_test, X_test_predication) * 100\n",
        "# print('The accuracy of test dataset is: ', test_accuracy)\n",
        "# print(X.shape,X_train.shape,X_test.shape)\n",
        "\n"
      ]
    },
    {
      "cell_type": "code",
      "source": [
        "# PREDICTIVE SYSTEM\n",
        "input_data = (152.84500,163.30500,75.83600,0.00294,0.00002,0.00121,0.00149,0.00364,0.01828,0.15800,0.01064,0.00972,0.01246,0.03191,0.00609,24.92200,0.474791,0.654027,-6.105098,0.203653,2.125618,0.170100)\n",
        "\n",
        "# Input array to numpy array\n",
        "input_data_as_numpy_array = np.asarray(input_data)\n",
        "\n",
        "# Reshape the numpy array\n",
        "input_data_reshape = input_data_as_numpy_array.reshape(1, -1)\n",
        "\n",
        "# Standardise the input\n",
        "std_data = scale.transform(input_data_reshape)\n",
        "\n",
        "prediction = model.predict(std_data)\n",
        "# print(prediction)\n",
        "\n",
        "\n",
        "print('The accuracy of train dataset is: ', train_accuracy, '%')\n",
        "print('The accuracy of test dataset is: ', test_accuracy, '%')\n",
        "if prediction[0] == 0:\n",
        "    print(\"Based on the input data, the model predicts that the person does not have Parkinson's.\")\n",
        "else:\n",
        "    print(\"Based on the input data, the model predicts that the person have Parkinson's.\")"
      ],
      "metadata": {
        "colab": {
          "base_uri": "https://localhost:8080/"
        },
        "id": "_MP_2tWOBtkq",
        "outputId": "f4852777-8e5e-4f45-d4b3-e6a52412278a"
      },
      "execution_count": 15,
      "outputs": [
        {
          "output_type": "stream",
          "name": "stdout",
          "text": [
            "The accuracy of train dataset is:  88.46153846153845 %\n",
            "The accuracy of test dataset is:  87.17948717948718 %\n",
            "Based on the input data, the model predicts that the person have Parkinson's.\n"
          ]
        }
      ]
    }
  ]
}
